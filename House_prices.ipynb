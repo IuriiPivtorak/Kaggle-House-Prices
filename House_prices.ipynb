{
 "cells": [
  {
   "cell_type": "code",
   "execution_count": 141,
   "metadata": {},
   "outputs": [],
   "source": [
    "from sklearn.neighbors import KNeighborsClassifier\n",
    "from sklearn.model_selection import train_test_split\n",
    "from sklearn.metrics import classification_report\n",
    "from sklearn.metrics import confusion_matrix\n",
    "import pandas as pd\n",
    "import numpy as np\n",
    "import matplotlib.pyplot as plt\n",
    "import seaborn as sns\n",
    "from sklearn.linear_model import LinearRegression\n",
    "from collections import Counter\n",
    "from xgboost import XGBRegressor\n",
    "from sklearn.grid_search import GridSearchCV\n",
    "from sklearn.model_selection import RandomizedSearchCV\n",
    "from sklearn.metrics import mean_squared_error\n",
    "from sklearn.model_selection import train_test_split\n",
    "import time\n",
    "from scipy.stats import skew\n",
    "from sklearn.ensemble import RandomForestRegressor\n",
    "from sklearn.decomposition import PCA, KernelPCA\n",
    "from sklearn.linear_model import Ridge\n",
    "from sklearn.linear_model import Lasso"
   ]
  },
  {
   "cell_type": "code",
   "execution_count": 157,
   "metadata": {
    "collapsed": true
   },
   "outputs": [],
   "source": [
    "# loading files\n",
    "\n",
    "df = pd.read_csv('train.csv')\n",
    "df1 = pd.read_csv('test.csv')"
   ]
  },
  {
   "cell_type": "code",
   "execution_count": 158,
   "metadata": {
    "collapsed": true
   },
   "outputs": [],
   "source": [
    "# dealing with NA\n",
    "\n",
    "df['LotFrontage'] = df['LotFrontage'].fillna(df['LotFrontage'].mean())\n",
    "df1['LotFrontage'] = df1['LotFrontage'].fillna(df1['LotFrontage'].mean())\n",
    "df['LotArea'] = df['LotArea'].fillna(df['LotArea'].mean())\n",
    "df1['LotArea'] = df1['LotArea'].fillna(df1['LotArea'].mean())\n",
    "df['MasVnrArea'] = df['MasVnrArea'].fillna(df['MasVnrArea'].mean())\n",
    "df1 = df1.fillna(0)"
   ]
  },
  {
   "cell_type": "code",
   "execution_count": 160,
   "metadata": {},
   "outputs": [],
   "source": [
    "# creating features\n",
    "\n",
    "df.loc[df.HeatingQC == 'Po','HeatingQC'] = 1\n",
    "df.loc[df.HeatingQC == 'Fa','HeatingQC'] = 2\n",
    "df.loc[df.HeatingQC == 'TA','HeatingQC'] = 3\n",
    "df.loc[df.HeatingQC == 'Gd','HeatingQC'] = 4\n",
    "df.loc[df.HeatingQC == 'Ex','HeatingQC'] = 5\n",
    "\n",
    "df1.loc[df1.HeatingQC == 'Po','HeatingQC'] = 1\n",
    "df1.loc[df1.HeatingQC == 'Fa','HeatingQC'] = 2\n",
    "df1.loc[df1.HeatingQC == 'TA','HeatingQC'] = 3\n",
    "df1.loc[df1.HeatingQC == 'Gd','HeatingQC'] = 4\n",
    "df1.loc[df1.HeatingQC == 'Ex','HeatingQC'] = 5\n",
    "\n",
    "df.loc[df.ExterQual == 'Po','ExterQual'] = 1\n",
    "df.loc[df.ExterQual == 'Fa','ExterQual'] = 2\n",
    "df.loc[df.ExterQual == 'TA','ExterQual'] = 3\n",
    "df.loc[df.ExterQual == 'Gd','ExterQual'] = 4\n",
    "df.loc[df.ExterQual == 'Ex','ExterQual'] = 5\n",
    "\n",
    "df1.loc[df1.ExterQual == 'Po','ExterQual'] = 1\n",
    "df1.loc[df1.ExterQual == 'Fa','ExterQual'] = 2\n",
    "df1.loc[df1.ExterQual == 'TA','ExterQual'] = 3\n",
    "df1.loc[df1.ExterQual == 'Gd','ExterQual'] = 4\n",
    "df1.loc[df1.ExterQual == 'Ex','ExterQual'] = 5\n",
    "\n",
    "df.loc[df.Functional == 'Sal','Functional'] = 1\n",
    "df.loc[df.Functional == 'Sev','Functional'] = 2\n",
    "df.loc[df.Functional == 'Maj2','Functional'] = 3\n",
    "df.loc[df.Functional == 'Maj1','Functional'] = 4\n",
    "df.loc[df.Functional == 'Mod','Functional'] = 5\n",
    "df.loc[df.Functional == 'Min2','Functional'] = 6\n",
    "df.loc[df.Functional == 'Min1','Functional'] = 7\n",
    "df.loc[df.Functional == 'Typ','Functional'] = 8\n",
    "\n",
    "df1.loc[df1.Functional == 'Sal','Functional'] = 1\n",
    "df1.loc[df1.Functional == 'Sev','Functional'] = 2\n",
    "df1.loc[df1.Functional == 'Maj2','Functional'] = 3\n",
    "df1.loc[df1.Functional == 'Maj1','Functional'] = 4\n",
    "df1.loc[df1.Functional == 'Mod','Functional'] = 5\n",
    "df1.loc[df1.Functional == 'Min2','Functional'] = 6\n",
    "df1.loc[df1.Functional == 'Min1','Functional'] = 7\n",
    "df1.loc[df1.Functional == 'Typ','Functional'] = 8\n",
    "\n",
    "df['FireplaceQu'] = df['FireplaceQu'].fillna(0)\n",
    "df.loc[df.FireplaceQu == 'Po','FireplaceQu'] = 1\n",
    "df.loc[df.FireplaceQu == 'Fa','FireplaceQu'] = 2\n",
    "df.loc[df.FireplaceQu == 'TA','FireplaceQu'] = 3\n",
    "df.loc[df.FireplaceQu == 'Gd','FireplaceQu'] = 4\n",
    "df.loc[df.FireplaceQu == 'Ex','FireplaceQu'] = 5\n",
    "\n",
    "df1['FireplaceQu'] = df1['FireplaceQu'].fillna(0)\n",
    "df1.loc[df1.FireplaceQu == 'Po','FireplaceQu'] = 1\n",
    "df1.loc[df1.FireplaceQu == 'Fa','FireplaceQu'] = 2\n",
    "df1.loc[df1.FireplaceQu == 'TA','FireplaceQu'] = 3\n",
    "df1.loc[df1.FireplaceQu == 'Gd','FireplaceQu'] = 4\n",
    "df1.loc[df1.FireplaceQu == 'Ex','FireplaceQu'] = 5\n",
    "\n",
    "df['GarageFinish'] = df['GarageFinish'].fillna(0)\n",
    "df.loc[df.GarageFinish == 'Unf','GarageFinish'] = 1\n",
    "df.loc[df.GarageFinish == 'RFn','GarageFinish'] = 2\n",
    "df.loc[df.GarageFinish == 'Fin','GarageFinish'] = 3\n",
    "\n",
    "df1['GarageFinish'] = df1['GarageFinish'].fillna(0)\n",
    "df1.loc[df1.GarageFinish == 'Unf','GarageFinish'] = 1\n",
    "df1.loc[df1.GarageFinish == 'RFn','GarageFinish'] = 2\n",
    "df1.loc[df1.GarageFinish == 'Fin','GarageFinish'] = 3"
   ]
  },
  {
   "cell_type": "code",
   "execution_count": 161,
   "metadata": {},
   "outputs": [],
   "source": [
    "# more features\n",
    "\n",
    "df['CentralAir'] = pd.get_dummies(df['CentralAir'])\n",
    "df1['CentralAir'] = pd.get_dummies(df1['CentralAir'])\n",
    "\n",
    "df['Alley'] = df['Alley'].fillna(0)\n",
    "df.loc[df.Alley == 'Pave','Alley'] = 1\n",
    "df.loc[df.Alley == 'Grvl','Alley'] = 2\n",
    "df1['Alley'] = df1['Alley'].fillna(0)\n",
    "df1.loc[df1.Alley == 'Pave','Alley'] = 1\n",
    "df1.loc[df1.Alley == 'Grvl','Alley'] = 2\n",
    "\n",
    "df.loc[df.LotShape == 'IR3','LotShape'] = 1\n",
    "df.loc[df.LotShape == 'IR2','LotShape'] = 2\n",
    "df.loc[df.LotShape == 'IR1','LotShape'] = 3\n",
    "df.loc[df.LotShape == 'Reg','LotShape'] = 4\n",
    "df1.loc[df1.LotShape == 'IR3','LotShape'] = 1\n",
    "df1.loc[df1.LotShape == 'IR2','LotShape'] = 2\n",
    "df1.loc[df1.LotShape == 'IR1','LotShape'] = 3\n",
    "df1.loc[df1.LotShape == 'Reg','LotShape'] = 4\n",
    "\n",
    "df.loc[df.LandContour == 'Low','LandContour'] = 1\n",
    "df.loc[df.LandContour == 'HLS','LandContour'] = 2\n",
    "df.loc[df.LandContour == 'Bnk','LandContour'] = 3\n",
    "df.loc[df.LandContour == 'Lvl','LandContour'] = 4\n",
    "df1.loc[df1.LandContour == 'Low','LandContour'] = 1\n",
    "df1.loc[df1.LandContour == 'HLS','LandContour'] = 2\n",
    "df1.loc[df1.LandContour == 'Bnk','LandContour'] = 3\n",
    "df1.loc[df1.LandContour == 'Lvl','LandContour'] = 4\n",
    "\n",
    "df.loc[df.LotConfig == 'Inside','LotConfig'] = 1\n",
    "df.loc[df.LotConfig == 'Corner','LotConfig'] = 2\n",
    "df.loc[df.LotConfig == 'CulDSac','LotConfig'] = 3\n",
    "df.loc[df.LotConfig == 'FR2','LotConfig'] = 4\n",
    "df.loc[df.LotConfig == 'FR3','LotConfig'] = 5\n",
    "df1.loc[df1.LotConfig == 'Inside','LotConfig'] = 1\n",
    "df1.loc[df1.LotConfig == 'Corner','LotConfig'] = 2\n",
    "df1.loc[df1.LotConfig == 'CulDSac','LotConfig'] = 3\n",
    "df1.loc[df1.LotConfig == 'FR2','LotConfig'] = 4\n",
    "df1.loc[df1.LotConfig == 'FR3','LotConfig'] = 5"
   ]
  },
  {
   "cell_type": "code",
   "execution_count": 162,
   "metadata": {
    "collapsed": true
   },
   "outputs": [],
   "source": [
    "y_train = df['SalePrice'].values\n",
    "X_train = df[['LotFrontage', 'LotArea','OverallQual','OverallCond','CentralAir','HeatingQC','ExterQual','1stFlrSF','2ndFlrSF',\n",
    "             'GrLivArea','BsmtFullBath','BsmtHalfBath','FullBath','HalfBath','BedroomAbvGr','KitchenAbvGr',\n",
    "             'TotRmsAbvGrd','Functional','Fireplaces','FireplaceQu','GarageFinish','GarageCars','GarageArea',\n",
    "             'WoodDeckSF','OpenPorchSF','EnclosedPorch','3SsnPorch','ScreenPorch','PoolArea','YearBuilt',\n",
    "             'YearRemodAdd','MasVnrArea','BsmtFinSF1','BsmtUnfSF','Alley','LotShape','LandContour','LotConfig']].values\n",
    "X_test = df1[['LotFrontage', 'LotArea','OverallQual','OverallCond','CentralAir','HeatingQC','ExterQual','1stFlrSF','2ndFlrSF',\n",
    "             'GrLivArea','BsmtFullBath','BsmtHalfBath','FullBath','HalfBath','BedroomAbvGr','KitchenAbvGr',\n",
    "             'TotRmsAbvGrd','Functional','Fireplaces','FireplaceQu','GarageFinish','GarageCars','GarageArea',\n",
    "             'WoodDeckSF','OpenPorchSF','EnclosedPorch','3SsnPorch','ScreenPorch','PoolArea','YearBuilt',\n",
    "             'YearRemodAdd','MasVnrArea','BsmtFinSF1','BsmtUnfSF','Alley','LotShape','LandContour','LotConfig']].values"
   ]
  },
  {
   "cell_type": "code",
   "execution_count": 167,
   "metadata": {},
   "outputs": [],
   "source": [
    "# using XGBoost since there are a lot of regressors and there might be hidden features\n",
    "\n",
    "model = XGBRegressor(\n",
    "    eval_metric = 'rmse',\n",
    "    nthread = 4,\n",
    "    eta = 0.1,\n",
    "    num_boost_round = 80,\n",
    "    max_depth = 5,\n",
    "    subsample = 0.5,\n",
    "    colsample_bytree = 1.0,\n",
    "    silent = 1,\n",
    "    )\n",
    "parameters = {\n",
    "    'num_boost_round': [10, 25, 50],\n",
    "    'eta': [0.05, 0.1, 0.3],\n",
    "    'max_depth': [3, 4, 5],\n",
    "    'subsample': [0.9, 1.0],\n",
    "    'colsample_bytree': [0.9, 1.0],\n",
    "}\n",
    "model.fit(X_train,y_train)\n",
    "y_pred = model.predict(X_test)"
   ]
  },
  {
   "cell_type": "code",
   "execution_count": 173,
   "metadata": {},
   "outputs": [],
   "source": [
    "# Creating submission file\n",
    "\n",
    "Submission = pd.DataFrame(df1['Id'])\n",
    "df2['SalePrice'] = y_pred\n",
    "Submission.to_csv('House_Prices.csv',index=False)"
   ]
  },
  {
   "cell_type": "code",
   "execution_count": null,
   "metadata": {
    "collapsed": true
   },
   "outputs": [],
   "source": [
    "# I've got RMSE around 0.14 with this code"
   ]
  }
 ],
 "metadata": {
  "kernelspec": {
   "display_name": "Python 3",
   "language": "python",
   "name": "python3"
  },
  "language_info": {
   "codemirror_mode": {
    "name": "ipython",
    "version": 3
   },
   "file_extension": ".py",
   "mimetype": "text/x-python",
   "name": "python",
   "nbconvert_exporter": "python",
   "pygments_lexer": "ipython3",
   "version": "3.6.2"
  }
 },
 "nbformat": 4,
 "nbformat_minor": 2
}
